{
 "cells": [
  {
   "cell_type": "markdown",
   "metadata": {},
   "source": [
    "PS: this code was copied \"as it was\" from [here][1]. Obviously, it is not configured and the notebook output are not correct. See the beforementioned link for more details.\n",
    "\n",
    "[1]: https://stanford.edu/~boyd/papers/prox_algs/matrix_decomp.html\n"
   ]
  },
  {
   "cell_type": "code",
   "execution_count": 1,
   "metadata": {},
   "outputs": [],
   "source": [
    "m = 20;\n",
    "n = 50;\n",
    "use_cvx = 1; % set to 0 for larger instances"
   ]
  },
  {
   "cell_type": "markdown",
   "metadata": {},
   "source": [
    "## Problem data"
   ]
  },
  {
   "cell_type": "code",
   "execution_count": 2,
   "metadata": {},
   "outputs": [
    {
     "name": "stdout",
     "output_type": "stream",
     "text": [
      "error: 'RandStream' undefined near line 1, column 1\n",
      "\n",
      "The 'RandStream' function is not yet implemented in Octave.\n",
      "\n",
      "Please read <https://www.octave.org/missing.html> to learn how you can\n",
      "contribute missing functionality.\n",
      "error: 'RandStream' undefined near line 1, column 1\n",
      "\n",
      "The 'RandStream' function is not yet implemented in Octave.\n",
      "\n",
      "Please read <https://www.octave.org/missing.html> to learn how you can\n",
      "contribute missing functionality.\n",
      "error: 'binornd' undefined near line 1, column 1\n",
      "\n",
      "The 'binornd' function belongs to the statistics package from Octave\n",
      "Forge which seems to not be installed in your system.\n",
      "\n",
      "Please read <https://www.octave.org/missing.html> to learn how you can\n",
      "contribute missing functionality.\n"
     ]
    }
   ],
   "source": [
    "s = RandStream.create('mt19937ar','seed',5489);\n",
    "RandStream.setDefaultStream(s);\n",
    "\n",
    "N = 3;\n",
    "r = 4;\n",
    "\n",
    "L = randn(m,r) * randn(r,n);    % low rank\n",
    "S = sprandn(m,n,0.05);          % sparse\n",
    "S(S ~= 0) = 20*binornd(1,0.5,nnz(S),1)-10;\n",
    "V = 0.01*randn(m,n);            % noise\n",
    "\n",
    "A = S + L + V;\n",
    "\n",
    "g2_max = norm(A(:),inf);\n",
    "g3_max = norm(A);\n",
    "g2 = 0.15*g2_max;\n",
    "g3 = 0.15*g3_max;"
   ]
  },
  {
   "cell_type": "markdown",
   "metadata": {},
   "source": [
    "## CVX"
   ]
  },
  {
   "cell_type": "code",
   "execution_count": 4,
   "metadata": {},
   "outputs": [
    {
     "name": "stdout",
     "output_type": "stream",
     "text": [
      "error: 'cvx_begin' undefined near line 4, column 4\n"
     ]
    }
   ],
   "source": [
    "if use_cvx\n",
    "    tic;\n",
    "\n",
    "    cvx_begin\n",
    "        cvx_precision low\n",
    "        variables X_1(m,n) X_2(m,n) X_3(m,n)\n",
    "        minimize(0.5*square_pos(norm(X_1,'fro')) + g2*norm(X_2(:),1) + g3*norm_nuc(X_3))\n",
    "        subject to\n",
    "            X_1 + X_2 + X_3 == A;\n",
    "    cvx_end\n",
    "\n",
    "    h.cvx_toc = toc;\n",
    "    h.p_cvx = cvx_optval;\n",
    "    h.X1_cvx = X_1;\n",
    "    h.X2_cvx = X_2;\n",
    "    h.X3_cvx = X_3;\n",
    "\n",
    "    X_2(abs(X_2) < 1e-4) = 0;\n",
    "    rhat = sum(svd(X_3) > 1e-4);\n",
    "    fprintf('CVX (vs true):\\n');\n",
    "    fprintf('|V| = %.2f;  |X_1| = %.2f\\n', norm(V, 'fro'), norm(X_1,'fro'));\n",
    "    fprintf('nnz(S) = %d; nnz(X_2) = %d\\n', nnz(S), nnz(X_2));\n",
    "    fprintf('rank(L) = %d; rank(X_3) = %d\\n', rank(L), rhat);\n",
    "end"
   ]
  },
  {
   "cell_type": "markdown",
   "metadata": {},
   "source": [
    "## ADMM"
   ]
  },
  {
   "cell_type": "code",
   "execution_count": 5,
   "metadata": {},
   "outputs": [
    {
     "name": "stdout",
     "output_type": "stream",
     "text": [
      "\n",
      "iter\t    r norm\t   eps pri\t    s norm\t  eps dual\t objective\n",
      "error: 'avg' undefined near line 3, column 3\n",
      "\n",
      "ADMM (vs true):\n",
      "|V| = 0.32;  |X_1| = 0.00\n",
      "nnz(S) = 50; nnz(X_2) = 0\n",
      "rank(L) = 4; rank(X_3) = 0\n",
      "\n",
      "ADMM vs CVX solutions (in Frobenius norm):\n",
      "error: structure has no member 'X1_cvx'\n"
     ]
    }
   ],
   "source": [
    "MAX_ITER = 100;\n",
    "ABSTOL   = 1e-4;\n",
    "RELTOL   = 1e-2;\n",
    "\n",
    "tic;\n",
    "\n",
    "lambda = 1;\n",
    "rho = 1/lambda;\n",
    "\n",
    "X_1 = zeros(m,n);\n",
    "X_2 = zeros(m,n);\n",
    "X_3 = zeros(m,n);\n",
    "z   = zeros(m,N*n);\n",
    "U   = zeros(m,n);\n",
    "\n",
    "fprintf('\\n%3s\\t%10s\\t%10s\\t%10s\\t%10s\\t%10s\\n', 'iter', ...\n",
    "    'r norm', 'eps pri', 's norm', 'eps dual', 'objective');\n",
    "\n",
    "for k = 1:MAX_ITER\n",
    "\n",
    "    B = avg(X_1, X_2, X_3) - A./N + U;\n",
    "\n",
    "    % x-update\n",
    "    X_1 = (1/(1+lambda))*(X_1 - B);\n",
    "    X_2 = prox_l1(X_2 - B, lambda*g2);\n",
    "    X_3 = prox_matrix(X_3 - B, lambda*g3, @prox_l1);\n",
    "\n",
    "    % (for termination checks only)\n",
    "    x = [X_1 X_2 X_3];\n",
    "    zold = z;\n",
    "    z = x + repmat(-avg(X_1, X_2, X_3) + A./N, 1, N);\n",
    "\n",
    "    % u-update\n",
    "    U = B;\n",
    "\n",
    "    % diagnostics, reporting, termination checks\n",
    "    h.objval(k)   = objective(X_1, g2, X_2, g3, X_3);\n",
    "    h.r_norm(k)   = norm(x - z,'fro');\n",
    "    h.s_norm(k)   = norm(-rho*(z - zold),'fro');\n",
    "    h.eps_pri(k)  = sqrt(m*n*N)*ABSTOL + RELTOL*max(norm(x,'fro'), norm(-z,'fro'));\n",
    "    h.eps_dual(k) = sqrt(m*n*N)*ABSTOL + RELTOL*sqrt(N)*norm(rho*U,'fro');\n",
    "\n",
    "    if k == 1 || mod(k,10) == 0\n",
    "        fprintf('%4d\\t%10.4f\\t%10.4f\\t%10.4f\\t%10.4f\\t%10.2f\\n', k, ...\n",
    "            h.r_norm(k), h.eps_pri(k), h.s_norm(k), h.eps_dual(k), h.objval(k));\n",
    "    end\n",
    "\n",
    "    if h.r_norm(k) < h.eps_pri(k) && h.s_norm(k) < h.eps_dual(k)\n",
    "         break;\n",
    "    end\n",
    "\n",
    "end\n",
    "\n",
    "h.admm_toc = toc;\n",
    "h.admm_iter = k;\n",
    "h.X1_admm = X_1;\n",
    "h.X2_admm = X_2;\n",
    "h.X3_admm = X_3;\n",
    "\n",
    "fprintf('\\nADMM (vs true):\\n');\n",
    "fprintf('|V| = %.2f;  |X_1| = %.2f\\n', norm(V, 'fro'), norm(X_1,'fro'));\n",
    "fprintf('nnz(S) = %d; nnz(X_2) = %d\\n', nnz(S), nnz(X_2));\n",
    "fprintf('rank(L) = %d; rank(X_3) = %d\\n', rank(L), rank(X_3));\n",
    "\n",
    "if use_cvx\n",
    "    fprintf('\\nADMM vs CVX solutions (in Frobenius norm):\\n');\n",
    "    fprintf('X_1: %.2e; X_2: %.2e; X_3: %.2e\\n', ...\n",
    "        norm(h.X1_cvx - X_1,'fro'), norm(h.X2_cvx - X_2,'fro'), norm(h.X3_cvx - X_3,'fro'));\n",
    "end"
   ]
  },
  {
   "cell_type": "code",
   "execution_count": 6,
   "metadata": {},
   "outputs": [
    {
     "name": "stdout",
     "output_type": "stream",
     "text": [
      "error: parse error:\n",
      "\n",
      "  syntax error\n",
      "\n",
      ">>> end\n",
      "      ^\n"
     ]
    }
   ],
   "source": [
    "end\n",
    "\n",
    "function x = avg(varargin)\n",
    "    N = length(varargin);\n",
    "    x = 0;\n",
    "    for k = 1:N\n",
    "        x = x + varargin{k};\n",
    "    end\n",
    "    x = x/N;\n",
    "end\n",
    "\n",
    "function p = objective(X_1, g_2, X_2, g_3, X_3)\n",
    "    p = norm(X_1,'fro').^2 + g_2*norm(X_2(:),1) + g_3*norm(svd(X_3),1);\n",
    "end"
   ]
  }
 ],
 "metadata": {
  "kernelspec": {
   "display_name": "Octave",
   "language": "octave",
   "name": "octave"
  },
  "language_info": {
   "file_extension": ".m",
   "help_links": [
    {
     "text": "GNU Octave",
     "url": "https://www.gnu.org/software/octave/support.html"
    },
    {
     "text": "Octave Kernel",
     "url": "https://github.com/Calysto/octave_kernel"
    },
    {
     "text": "MetaKernel Magics",
     "url": "https://metakernel.readthedocs.io/en/latest/source/README.html"
    }
   ],
   "mimetype": "text/x-octave",
   "name": "octave",
   "version": "6.4.0"
  }
 },
 "nbformat": 4,
 "nbformat_minor": 2
}
