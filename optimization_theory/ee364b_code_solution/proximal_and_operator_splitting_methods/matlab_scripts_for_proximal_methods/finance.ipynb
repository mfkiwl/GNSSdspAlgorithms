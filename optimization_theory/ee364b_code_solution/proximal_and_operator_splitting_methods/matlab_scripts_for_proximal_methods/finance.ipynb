{
 "cells": [
  {
   "cell_type": "markdown",
   "metadata": {},
   "source": [
    "PS: this code was copied \"as it was\" from [here][1]. Obviously, it is not configured and the notebook output are not correct. See the beforementioned link for more details.\n",
    "\n",
    "[1]: https://stanford.edu/~boyd/papers/prox_algs/finance.html\n"
   ]
  },
  {
   "cell_type": "code",
   "execution_count": 1,
   "metadata": {},
   "outputs": [
    {
     "name": "stdout",
     "output_type": "stream",
     "text": [
      "\n"
     ]
    },
    {
     "name": "stderr",
     "output_type": "stream",
     "text": [
      "\u001b[0;31mContinuation prompt found - input was incomplete:\n",
      "function h = finance\n",
      "\u001b[0m"
     ]
    }
   ],
   "source": [
    "function h = finance"
   ]
  },
  {
   "cell_type": "markdown",
   "metadata": {},
   "source": [
    "Problem data"
   ]
  },
  {
   "cell_type": "code",
   "execution_count": 2,
   "metadata": {},
   "outputs": [
    {
     "name": "stdout",
     "output_type": "stream",
     "text": [
      "error: 'RandStream' undefined near line 1, column 1\n",
      "\n",
      "The 'RandStream' function is not yet implemented in Octave.\n",
      "\n",
      "Please read <https://www.octave.org/missing.html> to learn how you can\n",
      "contribute missing functionality.\n",
      "error: 'RandStream' undefined near line 1, column 1\n",
      "\n",
      "The 'RandStream' function is not yet implemented in Octave.\n",
      "\n",
      "Please read <https://www.octave.org/missing.html> to learn how you can\n",
      "contribute missing functionality.\n",
      "error: 'unifrnd' undefined near line 1, column 1\n",
      "\n",
      "The 'unifrnd' function belongs to the statistics package from Octave\n",
      "Forge which seems to not be installed in your system.\n",
      "\n",
      "Please read <https://www.octave.org/missing.html> to learn how you can\n",
      "contribute missing functionality.\n"
     ]
    }
   ],
   "source": [
    "s = RandStream.create('mt19937ar','seed',0);\n",
    "RandStream.setDefaultStream(s);\n",
    "\n",
    "n = 20;\n",
    "T = 15;\n",
    "\n",
    "% risk model\n",
    "F  = randn(n);\n",
    "S  = F*F';\n",
    "d  = abs(randn(n,1));\n",
    "gam = 1;\n",
    "\n",
    "% return model\n",
    "mu = randn(n,1);\n",
    "\n",
    "% t-cost model\n",
    "kappa = unifrnd(0,3,n,1);\n",
    "\n",
    "f = @(u) -mu'*u + (gam/2)*quad_form(u,S);\n",
    "g = @(u) kappa'*pow_pos(abs(u), 1.5);"
   ]
  },
  {
   "cell_type": "markdown",
   "metadata": {},
   "source": [
    "## CVX (static)"
   ]
  },
  {
   "cell_type": "code",
   "execution_count": 3,
   "metadata": {},
   "outputs": [
    {
     "name": "stdout",
     "output_type": "stream",
     "text": [
      "error: 'cvx_begin' undefined near line 1, column 1\n",
      "error: 'variable' undefined near line 1, column 1\n",
      "error: 'xs' undefined near line 1, column 1\n",
      "error: 'subject' undefined near line 1, column 1\n",
      "error: 'xs' undefined near line 1, column 1\n",
      "error: 'xs' undefined near line 1, column 1\n",
      "error: 'cvx_end' undefined near line 1, column 1\n",
      "error: 'xs' undefined near line 1, column 1\n",
      "Elapsed time is 0.0523801 seconds.\n"
     ]
    }
   ],
   "source": [
    "tic\n",
    "cvx_begin quiet\n",
    "    variable xs(n)\n",
    "    minimize(f(xs))\n",
    "    subject to\n",
    "        sum(xs) <= 1\n",
    "        xs >= 0\n",
    "cvx_end\n",
    "h.xs = xs;\n",
    "toc"
   ]
  },
  {
   "cell_type": "markdown",
   "metadata": {},
   "source": [
    "## CVX (dynamic)"
   ]
  },
  {
   "cell_type": "code",
   "execution_count": 5,
   "metadata": {},
   "outputs": [
    {
     "name": "stdout",
     "output_type": "stream",
     "text": [
      "error: 'cvx_begin' undefined near line 1, column 1\n",
      "error: 'cvx_solver' undefined near line 1, column 1\n",
      "error: 'variable' undefined near line 1, column 1\n",
      "error: 'expression' undefined near line 1, column 1\n",
      "error: 'x' undefined near line 1, column 1\n",
      "error: 'obj' undefined near line 2, column 2\n",
      "error: 'obj' undefined near line 1, column 1\n",
      "error: 'subject' undefined near line 1, column 1\n",
      "error: 'x' undefined near line 1, column 1\n",
      "error: 'x' undefined near line 1, column 1\n",
      "error: 'x' undefined near line 1, column 1\n",
      "error: 'x' undefined near line 1, column 1\n",
      "error: 'cvx_end' undefined near line 1, column 1\n",
      "Elapsed time is 0.0806251 seconds.\n",
      "error: 'cvx_optval' undefined near line 1, column 1\n"
     ]
    }
   ],
   "source": [
    "tic\n",
    "cvx_begin quiet\n",
    "    cvx_solver sdpt3\n",
    "    variable x(n,T)\n",
    "    expression obj\n",
    "    obj = f(x(:,1));\n",
    "    for t = 2:T\n",
    "        obj = obj + f(x(:,t)) + g(x(:,t) - x(:,t-1));\n",
    "    end\n",
    "    minimize(obj)\n",
    "    subject to\n",
    "        sum(x) <= 1\n",
    "        x >= 0\n",
    "        x(:,1) == 0;\n",
    "        x(:,T) == 0;\n",
    "cvx_end\n",
    "toc\n",
    "\n",
    "p_cvx = cvx_optval;"
   ]
  },
  {
   "cell_type": "markdown",
   "metadata": {},
   "source": [
    "## Plots"
   ]
  },
  {
   "cell_type": "code",
   "execution_count": 7,
   "metadata": {},
   "outputs": [
    {
     "name": "stdout",
     "output_type": "stream",
     "text": [
      "error: 'x' undefined near line 1, column 1\n",
      "error: 'x' undefined near line 1, column 1\n"
     ]
    },
    {
     "data": {
      "image/png": "[encoded data removed]",
      "text/plain": [
       "<IPython.core.display.Image object>"
      ]
     },
     "metadata": {},
     "output_type": "display_data"
    },
    {
     "data": {
      "image/png": "[encoded data removed]",
      "text/plain": [
       "<IPython.core.display.Image object>"
      ]
     },
     "metadata": {},
     "output_type": "display_data"
    }
   ],
   "source": [
    "figure(1);\n",
    "plot(x', 'LineWidth', 2);\n",
    "xlim([0 T+1]);\n",
    "print -depsc fin_asset_holdings.eps;\n",
    "\n",
    "figure(2);\n",
    "bar(norms(x - repmat(xs,1,T), 1));\n",
    "xlim([0 T+1]);\n",
    "print -depsc fin_deviation.eps;"
   ]
  },
  {
   "cell_type": "markdown",
   "metadata": {},
   "source": [
    "## ADMM"
   ]
  },
  {
   "cell_type": "code",
   "execution_count": 9,
   "metadata": {},
   "outputs": [
    {
     "name": "stdout",
     "output_type": "stream",
     "text": [
      "\n",
      "\n",
      "iter\t    r norm\t   eps pri\t    s norm\t  eps dual\n"
     ]
    },
    {
     "name": "stdout",
     "output_type": "stream",
     "text": [
      "error: 'cvx_begin' undefined near line 5, column 5\n"
     ]
    }
   ],
   "source": [
    "MAX_ITER = 100;\n",
    "ABSTOL   = 1e-4;\n",
    "RELTOL   = 1e-2;\n",
    "\n",
    "lambda = 1;\n",
    "\n",
    "x = zeros(n,T);\n",
    "z = zeros(n,T);\n",
    "u = zeros(n,T);\n",
    "\n",
    "fprintf('\\n\\n%3s\\t%10s\\t%10s\\t%10s\\t%10s\\n', 'iter', ...\n",
    "    'r norm', 'eps pri', 's norm', 'eps dual');\n",
    "\n",
    "for k = 1:MAX_ITER\n",
    "\n",
    "    % x-update\n",
    "    for t = 2:T-1\n",
    "        cvx_begin quiet\n",
    "            variable xt(n)\n",
    "            minimize(f(xt) + (1/(2*lambda))*sum_square(xt - z(:,t) + u(:,t)))\n",
    "            subject to\n",
    "                xt >= 0\n",
    "                sum(xt) <= 1\n",
    "        cvx_end\n",
    "        x(:,t) = xt;\n",
    "    end\n",
    "\n",
    "    % z-update\n",
    "    zold = z;\n",
    "    cvx_begin quiet\n",
    "        cvx_solver sdpt3\n",
    "        variable z(n,T)\n",
    "        obj = 0;\n",
    "        for t = 2:T\n",
    "            obj = obj + g(z(:,t)-z(:,t-1));\n",
    "        end\n",
    "        minimize(obj + (1/(2*lambda))*square_pos(norm(z - x - u,'fro')))\n",
    "        subject to\n",
    "            z(:,1) == 0;\n",
    "    cvx_end\n",
    "\n",
    "    % u-update\n",
    "    u = u + x - z;\n",
    "\n",
    "    % diagnostics, reporting, termination checks\n",
    "    h.r_norm(k)   = norm(x - z,'fro');\n",
    "    h.s_norm(k)   = norm(-(z - zold)./lambda,'fro');\n",
    "    h.eps_pri(k)  = sqrt(n*T)*ABSTOL + RELTOL*max(norm(x,'fro'), norm(-z,'fro'));\n",
    "    h.eps_dual(k) = sqrt(n*T)*ABSTOL + RELTOL*norm(u./lambda,'fro');\n",
    "\n",
    "    h.objval(k)   = f(x(:,1));\n",
    "    for t = 2:T\n",
    "        h.objval(k) = h.objval(k) + f(x(:,t)) + g(x(:,t) - x(:,t-1));\n",
    "    end\n",
    "\n",
    "    fprintf('%3d\\t%10.4f\\t%10.4f\\t%10.4f\\t%10.4f\\n', k, ...\n",
    "        h.r_norm(k), h.eps_pri(k), h.s_norm(k), h.eps_dual(k));\n",
    "\n",
    "    if h.r_norm(k) < h.eps_pri(k) && h.s_norm(k) < h.eps_dual(k)\n",
    "         break;\n",
    "    end\n",
    "\n",
    "end\n",
    "\n",
    "h.admm_iter = k;\n",
    "h.x_admm = x;\n",
    "h.mu = mu;"
   ]
  },
  {
   "cell_type": "markdown",
   "metadata": {},
   "source": [
    "## Plots"
   ]
  },
  {
   "cell_type": "code",
   "execution_count": 11,
   "metadata": {},
   "outputs": [
    {
     "name": "stdout",
     "output_type": "stream",
     "text": [
      "error: structure has no member 'objval'\n"
     ]
    },
    {
     "name": "stdout",
     "output_type": "stream",
     "text": [
      "error: 'p_cvx' undefined near line 1, column 1\n"
     ]
    },
    {
     "data": {
      "image/png": "[encoded data removed]",
      "text/plain": [
       "<IPython.core.display.Image object>"
      ]
     },
     "metadata": {},
     "output_type": "display_data"
    }
   ],
   "source": [
    "figure(3);\n",
    "hold on;\n",
    "plot(h.objval');\n",
    "plot(repmat(p_cvx, 1, k), 'k--');\n",
    "print -depsc fin_optval.eps;"
   ]
  },
  {
   "cell_type": "code",
   "execution_count": null,
   "metadata": {},
   "outputs": [],
   "source": []
  }
 ],
 "metadata": {
  "kernelspec": {
   "display_name": "Octave",
   "language": "octave",
   "name": "octave"
  },
  "language_info": {
   "file_extension": ".m",
   "help_links": [
    {
     "text": "GNU Octave",
     "url": "https://www.gnu.org/software/octave/support.html"
    },
    {
     "text": "Octave Kernel",
     "url": "https://github.com/Calysto/octave_kernel"
    },
    {
     "text": "MetaKernel Magics",
     "url": "https://metakernel.readthedocs.io/en/latest/source/README.html"
    }
   ],
   "mimetype": "text/x-octave",
   "name": "octave",
   "version": "6.4.0"
  }
 },
 "nbformat": 4,
 "nbformat_minor": 2
}
