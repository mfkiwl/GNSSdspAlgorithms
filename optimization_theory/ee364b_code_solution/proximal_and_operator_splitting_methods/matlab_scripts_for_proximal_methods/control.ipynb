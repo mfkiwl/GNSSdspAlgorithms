{
 "cells": [
  {
   "cell_type": "markdown",
   "metadata": {},
   "source": [
    "PS: this code was copied \"as it was\" from [here][1]. Obviously, it is not configured and the notebook output are not correct. See the beforementioned link for more details.\n",
    "\n",
    "[1]: https://stanford.edu/~boyd/papers/prox_algs/control.html\n"
   ]
  },
  {
   "cell_type": "code",
   "execution_count": 1,
   "metadata": {},
   "outputs": [
    {
     "name": "stdout",
     "output_type": "stream",
     "text": [
      "\n"
     ]
    },
    {
     "name": "stderr",
     "output_type": "stream",
     "text": [
      "\u001b[0;31mContinuation prompt found - input was incomplete:\n",
      "function h = control\n",
      "\u001b[0m"
     ]
    }
   ],
   "source": [
    "function h = control"
   ]
  },
  {
   "cell_type": "markdown",
   "metadata": {},
   "source": [
    "## Problem data"
   ]
  },
  {
   "cell_type": "code",
   "execution_count": 2,
   "metadata": {},
   "outputs": [
    {
     "name": "stdout",
     "output_type": "stream",
     "text": [
      "error: 'RandStream' undefined near line 1, column 1\n",
      "\n",
      "The 'RandStream' function is not yet implemented in Octave.\n",
      "\n",
      "Please read <https://www.octave.org/missing.html> to learn how you can\n",
      "contribute missing functionality.\n",
      "error: 'RandStream' undefined near line 1, column 1\n",
      "\n",
      "The 'RandStream' function is not yet implemented in Octave.\n",
      "\n",
      "Please read <https://www.octave.org/missing.html> to learn how you can\n",
      "contribute missing functionality.\n"
     ]
    }
   ],
   "source": [
    "s = RandStream.create('mt19937ar','seed',0);\n",
    "RandStream.setDefaultStream(s);\n",
    "\n",
    "n = 50; % decision variables\n",
    "m = 5;  % PWL components\n",
    "\n",
    "A = randn(m,4*n,8);\n",
    "b = randn(m,1);\n",
    "\n",
    "f = @(u,A) max(A*u(:) + b);"
   ]
  },
  {
   "cell_type": "markdown",
   "metadata": {},
   "source": [
    "## CVX"
   ]
  },
  {
   "cell_type": "code",
   "execution_count": 3,
   "metadata": {},
   "outputs": [
    {
     "name": "stdout",
     "output_type": "stream",
     "text": [
      "error: 'cvx_begin' undefined near line 1, column 1\n",
      "error: 'variables' undefined near line 1, column 1\n",
      "error: 'y_aaa' undefined near line 1, column 1\n",
      "error: 'obj' undefined near line 1, column 1\n",
      "error: 'subject' undefined near line 1, column 1\n",
      "error: 'y_aaa' undefined near line 1, column 1\n",
      "error: 'y_aab' undefined near line 1, column 1\n",
      "error: 'y_aba' undefined near line 1, column 1\n",
      "error: 'y_abb' undefined near line 1, column 1\n",
      "error: 'y_baa' undefined near line 1, column 1\n",
      "error: 'y_bab' undefined near line 1, column 1\n",
      "error: 'y_bba' undefined near line 1, column 1\n",
      "error: 'y_aaa' undefined near line 1, column 1\n",
      "error: 'y_aab' undefined near line 1, column 1\n",
      "error: 'y_aba' undefined near line 1, column 1\n",
      "error: 'y_baa' undefined near line 1, column 1\n",
      "error: 'y_bab' undefined near line 1, column 1\n",
      "error: 'y_bba' undefined near line 1, column 1\n",
      "error: 'y_aaa' undefined near line 1, column 1\n",
      "error: 'y_aba' undefined near line 1, column 1\n",
      "error: 'y_baa' undefined near line 1, column 1\n",
      "error: 'y_bba' undefined near line 1, column 1\n",
      "error: 'y_aaa' undefined near line 1, column 1\n",
      "error: 'y_aab' undefined near line 1, column 1\n",
      "error: 'y_aba' undefined near line 1, column 1\n",
      "error: 'y_abb' undefined near line 1, column 1\n",
      "error: 'y_baa' undefined near line 1, column 1\n",
      "error: 'y_bab' undefined near line 1, column 1\n",
      "error: 'y_bba' undefined near line 1, column 1\n",
      "error: 'y_bbb' undefined near line 1, column 1\n",
      "error: 'y_aaa' undefined near line 1, column 1\n",
      "error: 'y_aab' undefined near line 1, column 1\n",
      "error: 'y_aba' undefined near line 1, column 1\n",
      "error: 'y_abb' undefined near line 1, column 1\n",
      "error: 'y_baa' undefined near line 1, column 1\n",
      "error: 'y_bab' undefined near line 1, column 1\n",
      "error: 'y_bba' undefined near line 1, column 1\n",
      "error: 'y_bbb' undefined near line 1, column 1\n",
      "error: 'cvx_end' undefined near line 1, column 1\n",
      "Elapsed time is 0.263019 seconds.\n",
      "error: 'cvx_optval' undefined near line 1, column 1\n",
      "error: 'cvx_begin' undefined near line 1, column 1\n",
      "error: 'variables' undefined near line 1, column 1\n",
      "error: 'w_aaa' undefined near line 1, column 1\n",
      "error: 'obj' undefined near line 1, column 1\n",
      "error: 'subject' undefined near line 1, column 1\n",
      "error: 'w_aaa' undefined near line 1, column 1\n",
      "error: 'w_aab' undefined near line 1, column 1\n",
      "error: 'w_aba' undefined near line 1, column 1\n",
      "error: 'w_abb' undefined near line 1, column 1\n",
      "error: 'w_baa' undefined near line 1, column 1\n",
      "error: 'w_bab' undefined near line 1, column 1\n",
      "error: 'w_bba' undefined near line 1, column 1\n",
      "error: 'w_bbb' undefined near line 1, column 1\n",
      "error: 'w_aaa' undefined near line 1, column 1\n",
      "error: 'w_aab' undefined near line 1, column 1\n",
      "error: 'w_aba' undefined near line 1, column 1\n",
      "error: 'w_abb' undefined near line 1, column 1\n",
      "error: 'w_baa' undefined near line 1, column 1\n",
      "error: 'w_bab' undefined near line 1, column 1\n",
      "error: 'w_bba' undefined near line 1, column 1\n",
      "error: 'w_bbb' undefined near line 1, column 1\n",
      "error: 'cvx_end' undefined near line 1, column 1\n",
      "error: 'cvx_optval' undefined near line 1, column 1\n"
     ]
    }
   ],
   "source": [
    "tic\n",
    "cvx_begin quiet\n",
    "    variables y_aaa(n,4) y_aab(n,4) y_aba(n,4) y_abb(n,4) ...\n",
    "              y_baa(n,4) y_bab(n,4) y_bba(n,4) y_bbb(n,4);\n",
    "    obj = f(y_aaa,A(:,:,1)) + f(y_aab,A(:,:,2)) + f(y_aba,A(:,:,3)) + f(y_abb,A(:,:,4)) + ...\n",
    "          f(y_baa,A(:,:,5)) + f(y_bab,A(:,:,6)) + f(y_bba,A(:,:,7)) + f(y_bbb,A(:,:,8));\n",
    "    minimize(obj);\n",
    "    subject to\n",
    "\n",
    "        % all initial actions must agree\n",
    "        y_aaa(:,1) == y_aab(:,1);\n",
    "        y_aab(:,1) == y_aba(:,1);\n",
    "        y_aba(:,1) == y_abb(:,1);\n",
    "        y_abb(:,1) == y_baa(:,1);\n",
    "        y_baa(:,1) == y_bab(:,1);\n",
    "        y_bab(:,1) == y_bba(:,1);\n",
    "        y_bba(:,1) == y_bbb(:,1);\n",
    "\n",
    "        y_aaa(:,2) == y_aab(:,2);\n",
    "        y_aab(:,2) == y_aba(:,2);\n",
    "        y_aba(:,2) == y_abb(:,2);\n",
    "\n",
    "        y_baa(:,2) == y_bab(:,2);\n",
    "        y_bab(:,2) == y_bba(:,2);\n",
    "        y_bba(:,2) == y_bbb(:,2);\n",
    "\n",
    "        y_aaa(:,3) == y_aab(:,3);\n",
    "        y_aba(:,3) == y_abb(:,3);\n",
    "        y_baa(:,3) == y_bab(:,3);\n",
    "        y_bba(:,3) == y_bbb(:,3);\n",
    "\n",
    "        y_aaa <= 1;\n",
    "        y_aab <= 1;\n",
    "        y_aba <= 1;\n",
    "        y_abb <= 1;\n",
    "        y_baa <= 1;\n",
    "        y_bab <= 1;\n",
    "        y_bba <= 1;\n",
    "        y_bbb <= 1;\n",
    "\n",
    "        y_aaa >= -1;\n",
    "        y_aab >= -1;\n",
    "        y_aba >= -1;\n",
    "        y_abb >= -1;\n",
    "        y_baa >= -1;\n",
    "        y_bab >= -1;\n",
    "        y_bba >= -1;\n",
    "        y_bbb >= -1;\n",
    "cvx_end\n",
    "toc\n",
    "\n",
    "h.p_cvx = cvx_optval/8;\n",
    "\n",
    "% Prescient solution\n",
    "cvx_begin quiet\n",
    "    variables w_aaa(n,4) w_aab(n,4) w_aba(n,4) w_abb(n,4) ...\n",
    "              w_baa(n,4) w_bab(n,4) w_bba(n,4) w_bbb(n,4);\n",
    "    obj = f(w_aaa,A(:,:,1)) + f(w_aab,A(:,:,2)) + f(w_aba,A(:,:,3)) + f(w_abb,A(:,:,4)) + ...\n",
    "          f(w_baa,A(:,:,5)) + f(w_bab,A(:,:,6)) + f(w_bba,A(:,:,7)) + f(w_bbb,A(:,:,8));\n",
    "    minimize(obj);\n",
    "    subject to\n",
    "        w_aaa <= 1;\n",
    "        w_aab <= 1;\n",
    "        w_aba <= 1;\n",
    "        w_abb <= 1;\n",
    "        w_baa <= 1;\n",
    "        w_bab <= 1;\n",
    "        w_bba <= 1;\n",
    "        w_bbb <= 1;\n",
    "        w_aaa >= -1;\n",
    "        w_aab >= -1;\n",
    "        w_aba >= -1;\n",
    "        w_abb >= -1;\n",
    "        w_baa >= -1;\n",
    "        w_bab >= -1;\n",
    "        w_bba >= -1;\n",
    "        w_bbb >= -1;\n",
    "cvx_end\n",
    "\n",
    "h.p_cvx_pres = cvx_optval/8;"
   ]
  },
  {
   "cell_type": "markdown",
   "metadata": {},
   "source": [
    "## ADMM"
   ]
  },
  {
   "cell_type": "code",
   "execution_count": 4,
   "metadata": {},
   "outputs": [
    {
     "name": "stdout",
     "output_type": "stream",
     "text": [
      "error: 'prox_f' undefined near line 5, column 5\n",
      "ans = 0\n",
      "Elapsed time is 0.114914 seconds.\n"
     ]
    }
   ],
   "source": [
    "MAX_ITER = 100;\n",
    "ABSTOL   = 1e-4;\n",
    "RELTOL   = 1e-2;\n",
    "\n",
    "lambda = 1;\n",
    "\n",
    "x_aaa = zeros(n,4); x_aab = zeros(n,4); x_aba = zeros(n,4); x_abb = zeros(n,4);\n",
    "x_baa = zeros(n,4); x_bab = zeros(n,4); x_bba = zeros(n,4); x_bbb = zeros(n,4);\n",
    "\n",
    "z_0   = zeros(n,1);\n",
    "z_a   = zeros(n,1); z_b   = zeros(n,1);\n",
    "z_aa  = zeros(n,1); z_ab  = zeros(n,1); z_ba  = zeros(n,1); z_bb  = zeros(n,1);\n",
    "z_aaa = zeros(n,4); z_aab = zeros(n,4); z_aba = zeros(n,4); z_abb = zeros(n,4);\n",
    "z_baa = zeros(n,4); z_bab = zeros(n,4); z_bba = zeros(n,4); z_bbb = zeros(n,4);\n",
    "z = [ z_aaa z_aab z_aba z_abb z_baa z_bab z_bba z_bbb ];\n",
    "\n",
    "u_aaa = zeros(n,4); u_aab = zeros(n,4); u_aba = zeros(n,4); u_abb = zeros(n,4);\n",
    "u_baa = zeros(n,4); u_bab = zeros(n,4); u_bba = zeros(n,4); u_bbb = zeros(n,4);\n",
    "\n",
    "tstart = tic;\n",
    "tx = 0;\n",
    "\n",
    "for k = 1:MAX_ITER\n",
    "\n",
    "    % x-update\n",
    "    titer = tic;\n",
    "    x_aaa = prox_f(z_aaa - u_aaa, lambda, A(:,:,1), b);\n",
    "    x_aab = prox_f(z_aab - u_aab, lambda, A(:,:,2), b);\n",
    "    x_aba = prox_f(z_aba - u_aba, lambda, A(:,:,3), b);\n",
    "    x_abb = prox_f(z_abb - u_abb, lambda, A(:,:,4), b);\n",
    "    x_baa = prox_f(z_baa - u_baa, lambda, A(:,:,5), b);\n",
    "    x_bab = prox_f(z_bab - u_bab, lambda, A(:,:,6), b);\n",
    "    x_bba = prox_f(z_bba - u_bba, lambda, A(:,:,7), b);\n",
    "    x_bbb = prox_f(z_bbb - u_bbb, lambda, A(:,:,8), b);\n",
    "    tx = tx + toc(titer);\n",
    "\n",
    "    % z-update\n",
    "    % Note: should strictly be x + u, but u's sum to zero, so are omitted.\n",
    "    z_0 = avg(x_aaa(:,1), x_aab(:,1), x_aba(:,1), x_abb(:,1), ...\n",
    "              x_baa(:,1), x_bab(:,1), x_bba(:,1), x_bbb(:,1));\n",
    "\n",
    "    z_a = avg(x_aaa(:,2), x_aab(:,2), x_aba(:,2), x_abb(:,2));\n",
    "    z_b = avg(x_baa(:,2), x_bab(:,2), x_bba(:,2), x_bbb(:,2));\n",
    "\n",
    "    z_aa = avg(x_aaa(:,3), x_aab(:,3));\n",
    "    z_ab = avg(x_aba(:,3), x_abb(:,3));\n",
    "    z_ba = avg(x_baa(:,3), x_bab(:,3));\n",
    "    z_bb = avg(x_bba(:,3), x_bbb(:,3));\n",
    "\n",
    "    z_aaa = [z_0 z_a z_aa x_aaa(:,4)];\n",
    "    z_aab = [z_0 z_a z_aa x_aab(:,4)];\n",
    "    z_aba = [z_0 z_a z_ab x_aba(:,4)];\n",
    "    z_abb = [z_0 z_a z_ab x_abb(:,4)];\n",
    "    z_baa = [z_0 z_b z_ba x_baa(:,4)];\n",
    "    z_bab = [z_0 z_b z_ba x_bab(:,4)];\n",
    "    z_bba = [z_0 z_b z_bb x_bba(:,4)];\n",
    "    z_bbb = [z_0 z_b z_bb x_bbb(:,4)];\n",
    "\n",
    "    % u-update\n",
    "    u_aaa = u_aaa + x_aaa - z_aaa;\n",
    "    u_aab = u_aab + x_aab - z_aab;\n",
    "    u_aba = u_aba + x_aba - z_aba;\n",
    "    u_abb = u_abb + x_abb - z_abb;\n",
    "    u_baa = u_baa + x_baa - z_baa;\n",
    "    u_bab = u_bab + x_bab - z_bab;\n",
    "    u_bba = u_bba + x_bba - z_bba;\n",
    "    u_bbb = u_bbb + x_bbb - z_bbb;\n",
    "\n",
    "    % diagnostics, reporting, termination checks\n",
    "    x = [ x_aaa x_aab x_aba x_abb x_baa x_bab x_bba x_bbb ];\n",
    "    zold = z;\n",
    "    z = [ z_aaa z_aab z_aba z_abb z_baa z_bab z_bba z_bbb ];\n",
    "    u = [ u_aaa u_aab u_aba u_abb u_baa u_bab u_bba u_bbb ];\n",
    "\n",
    "    h.r_norm(k)   = norm(x - z,'fro');\n",
    "    h.s_norm(k)   = norm(-(z - zold)/lambda,'fro');\n",
    "    h.eps_pri(k)  = sqrt(numel(x))*ABSTOL + RELTOL*max(norm(x,'fro'), norm(-z,'fro'));\n",
    "    h.eps_dual(k) = sqrt(numel(x))*ABSTOL + RELTOL*norm(u/lambda,'fro');\n",
    "\n",
    "    h.objval(k)   = (1/8)*(f(z_aaa,A(:,:,1)) + f(z_aab,A(:,:,2)) + f(z_aba,A(:,:,3)) + ...\n",
    "                           f(z_abb,A(:,:,4)) + f(z_baa,A(:,:,5)) + f(z_bab,A(:,:,6)) + ...\n",
    "                           f(z_bba,A(:,:,7)) + f(z_bbb,A(:,:,8)));\n",
    "\n",
    "    if mod(k,10) == 0\n",
    "        fprintf('%3d\\t%10.4f\\t%10.4f\\t%10.4f\\t%10.4f\\n', k, ...\n",
    "            h.r_norm(k), h.eps_pri(k), h.s_norm(k), h.eps_dual(k));\n",
    "    end\n",
    "\n",
    "    if h.r_norm(k) < h.eps_pri(k) && h.s_norm(k) < h.eps_dual(k)\n",
    "         break;\n",
    "    end\n",
    "\n",
    "end\n",
    "\n",
    "tx/k\n",
    "toc(tstart)"
   ]
  },
  {
   "cell_type": "markdown",
   "metadata": {},
   "source": [
    "## Plotting"
   ]
  },
  {
   "cell_type": "code",
   "execution_count": 5,
   "metadata": {},
   "outputs": [
    {
     "name": "stdout",
     "output_type": "stream",
     "text": [
      "error: 'h' undefined near line 1, column 1\n",
      "error: 'h' undefined near line 1, column 1\n",
      "error: 'h' undefined near line 1, column 1\n"
     ]
    },
    {
     "data": {
      "image/png": "[encoded data removed]",
      "text/plain": [
       "<IPython.core.display.Image object>"
      ]
     },
     "metadata": {},
     "output_type": "display_data"
    }
   ],
   "source": [
    "figure(1);\n",
    "\n",
    "% objective convergence (evaluated with z^k)\n",
    "hold on;\n",
    "plot(h.objval);\n",
    "plot(repmat(h.p_cvx,k,1), 'k--');\n",
    "plot(repmat(h.p_cvx_pres,k,1), 'k--');\n",
    "hold off;\n",
    "xlim([0 25]);\n",
    "ylim([-80 -10]);\n",
    "print -depsc ctrl_progress.eps;"
   ]
  },
  {
   "cell_type": "code",
   "execution_count": 6,
   "metadata": {},
   "outputs": [
    {
     "name": "stdout",
     "output_type": "stream",
     "text": [
      "error: parse error:\n",
      "\n",
      "  syntax error\n",
      "\n",
      ">>> end\n",
      "      ^\n"
     ]
    }
   ],
   "source": [
    "end\n",
    "\n",
    "function x = avg(varargin)\n",
    "    N = length(varargin);\n",
    "    x = 0;\n",
    "    for k = 1:N\n",
    "        x = x + varargin{k};\n",
    "    end\n",
    "    x = x/N;\n",
    "end\n",
    "\n",
    "function x = prox_f(v, lambda, A, b)\n",
    "% CVXGEN-based solver.\n",
    "    [n T] = size(v);\n",
    "    params.A_0 = A(:,1:n);\n",
    "    params.A_1 = A(:,n+1:2*n);\n",
    "    params.A_2 = A(:,2*n+1:3*n);\n",
    "    params.A_3 = A(:,3*n+1:4*n);\n",
    "    params.lambda = lambda;\n",
    "    params.b   = b;\n",
    "    params.v_0 = v(:,1);\n",
    "    params.v_1 = v(:,2);\n",
    "    params.v_2 = v(:,3);\n",
    "    params.v_3 = v(:,4);\n",
    "    settings.verbose = 0;\n",
    "    vars = csolve(params, settings);\n",
    "    x = [vars.x_0 vars.x_1 vars.x_2 vars.x_3];\n",
    "end\n",
    "\n",
    "function x = prox_f_cvx(v, lambda, f, A)\n",
    "% For testing purposes.\n",
    "    [n T] = size(v);\n",
    "    cvx_begin quiet\n",
    "        variable x(n,T)\n",
    "        minimize(f(x,A) + (1/(2*lambda))*square_pos(norm(x - v,'fro')))\n",
    "        subject to\n",
    "            x <= 1;\n",
    "            x >= -1;\n",
    "    cvx_end\n",
    "end"
   ]
  },
  {
   "cell_type": "code",
   "execution_count": null,
   "metadata": {},
   "outputs": [],
   "source": []
  }
 ],
 "metadata": {
  "kernelspec": {
   "display_name": "Octave",
   "language": "octave",
   "name": "octave"
  },
  "language_info": {
   "file_extension": ".m",
   "help_links": [
    {
     "text": "GNU Octave",
     "url": "https://www.gnu.org/software/octave/support.html"
    },
    {
     "text": "Octave Kernel",
     "url": "https://github.com/Calysto/octave_kernel"
    },
    {
     "text": "MetaKernel Magics",
     "url": "https://metakernel.readthedocs.io/en/latest/source/README.html"
    }
   ],
   "mimetype": "text/x-octave",
   "name": "octave",
   "version": "6.4.0"
  }
 },
 "nbformat": 4,
 "nbformat_minor": 2
}
