{
 "cells": [
  {
   "cell_type": "markdown",
   "metadata": {},
   "source": [
    "PS: this code was copied \"as it was\" from [here][1]. Obviously, it is not configured and the notebook output are not correct. See the beforementioned link for more details.\n",
    "\n",
    "[1]: https://stanford.edu/~boyd/papers/prox_algs/lasso.html#8\n"
   ]
  },
  {
   "cell_type": "code",
   "execution_count": 1,
   "metadata": {},
   "outputs": [
    {
     "name": "stdout",
     "output_type": "stream",
     "text": [
      "\n"
     ]
    },
    {
     "name": "stderr",
     "output_type": "stream",
     "text": [
      "\u001b[0;31mContinuation prompt found - input was incomplete:\n",
      "function h = lasso\n",
      "\u001b[0m"
     ]
    }
   ],
   "source": [
    "function h = lasso"
   ]
  },
  {
   "cell_type": "markdown",
   "metadata": {},
   "source": [
    "## Problem data"
   ]
  },
  {
   "cell_type": "code",
   "execution_count": 2,
   "metadata": {},
   "outputs": [
    {
     "name": "stdout",
     "output_type": "stream",
     "text": [
      "error: 'RandStream' undefined near line 1, column 1\n",
      "\n",
      "The 'RandStream' function is not yet implemented in Octave.\n",
      "\n",
      "Please read <https://www.octave.org/missing.html> to learn how you can\n",
      "contribute missing functionality.\n",
      "error: 'RandStream' undefined near line 1, column 1\n",
      "\n",
      "The 'RandStream' function is not yet implemented in Octave.\n",
      "\n",
      "Please read <https://www.octave.org/missing.html> to learn how you can\n",
      "contribute missing functionality.\n",
      "solving instance with 500 examples, 2500 variables\n",
      "nnz(x0) = 125; signal-to-noise ratio: 270.20\n"
     ]
    }
   ],
   "source": [
    "s = RandStream.create('mt19937ar','seed',0);\n",
    "RandStream.setDefaultStream(s);\n",
    "\n",
    "m = 500;       % number of examples\n",
    "n = 2500;      % number of features\n",
    "\n",
    "x0 = sprandn(n,1,0.05);\n",
    "A = randn(m,n);\n",
    "A = A*spdiags(1./sqrt(sum(A.^2))',0,n,n); % normalize columns\n",
    "v = sqrt(0.001)*randn(m,1);\n",
    "b = A*x0 + v;\n",
    "\n",
    "fprintf('solving instance with %d examples, %d variables\\n', m, n);\n",
    "fprintf('nnz(x0) = %d; signal-to-noise ratio: %.2f\\n', nnz(x0), norm(A*x0)^2/norm(v)^2);\n",
    "\n",
    "gamma_max = norm(A'*b,'inf');\n",
    "gamma = 0.1*gamma_max;\n",
    "\n",
    "% cached computations for all methods\n",
    "AtA = A'*A;\n",
    "Atb = A'*b;"
   ]
  },
  {
   "cell_type": "markdown",
   "metadata": {},
   "source": [
    "Global constants and defaults"
   ]
  },
  {
   "cell_type": "code",
   "execution_count": 3,
   "metadata": {},
   "outputs": [],
   "source": [
    "MAX_ITER = 100;\n",
    "ABSTOL   = 1e-4;\n",
    "RELTOL   = 1e-2;"
   ]
  },
  {
   "cell_type": "markdown",
   "metadata": {},
   "source": [
    "## CVX"
   ]
  },
  {
   "cell_type": "code",
   "execution_count": 5,
   "metadata": {},
   "outputs": [
    {
     "name": "stdout",
     "output_type": "stream",
     "text": [
      "error: 'cvx_begin' undefined near line 1, column 1\n",
      "error: 'cvx_precision' undefined near line 1, column 1\n",
      "error: 'variable' undefined near line 1, column 1\n",
      "error: 'x' undefined near line 1, column 1\n",
      "error: 'cvx_end' undefined near line 1, column 1\n",
      "error: 'x' undefined near line 1, column 1\n",
      "error: 'cvx_optval' undefined near line 1, column 1\n"
     ]
    }
   ],
   "source": [
    "tic\n",
    "\n",
    "cvx_begin quiet\n",
    "    cvx_precision low\n",
    "    variable x(n)\n",
    "    minimize(0.5*sum_square(A*x - b) + gamma*norm(x,1))\n",
    "cvx_end\n",
    "\n",
    "h.x_cvx = x;\n",
    "h.p_cvx = cvx_optval;\n",
    "h.cvx_toc = toc;"
   ]
  },
  {
   "cell_type": "markdown",
   "metadata": {},
   "source": [
    "Proximal gradient"
   ]
  },
  {
   "cell_type": "code",
   "execution_count": 6,
   "metadata": {},
   "outputs": [
    {
     "name": "stdout",
     "output_type": "stream",
     "text": [
      "error: 'prox_l1' undefined near line 4, column 4\n",
      "error: structure has no member 'prox_optval'\n"
     ]
    }
   ],
   "source": [
    "f = @(u) 0.5*sum_square(A*u-b);\n",
    "lambda = 1;\n",
    "beta = 0.5;\n",
    "\n",
    "tic;\n",
    "\n",
    "x = zeros(n,1);\n",
    "xprev = x;\n",
    "\n",
    "for k = 1:MAX_ITER\n",
    "    while 1\n",
    "        grad_x = AtA*x - Atb;\n",
    "        z = prox_l1(x - lambda*grad_x, lambda*gamma);\n",
    "        if f(z) <= f(x) + grad_x'*(z - x) + (1/(2*lambda))*sum_square(z - x)\n",
    "            break;\n",
    "        end\n",
    "        lambda = beta*lambda;\n",
    "    end\n",
    "    xprev = x;\n",
    "    x = z;\n",
    "\n",
    "    h.prox_optval(k) = objective(A, b, gamma, x, x);\n",
    "    if k > 1 && abs(h.prox_optval(k) - h.prox_optval(k-1)) < ABSTOL\n",
    "        break;\n",
    "    end\n",
    "end\n",
    "\n",
    "h.x_prox = x;\n",
    "h.p_prox = h.prox_optval(end);\n",
    "h.prox_grad_toc = toc;"
   ]
  },
  {
   "cell_type": "markdown",
   "metadata": {},
   "source": [
    "## Fast proximal gradient"
   ]
  },
  {
   "cell_type": "code",
   "execution_count": 7,
   "metadata": {},
   "outputs": [
    {
     "name": "stdout",
     "output_type": "stream",
     "text": [
      "error: 'prox_l1' undefined near line 5, column 5\n",
      "error: structure has no member 'fast_optval'\n"
     ]
    }
   ],
   "source": [
    "lambda = 1;\n",
    "\n",
    "tic;\n",
    "\n",
    "x = zeros(n,1);\n",
    "xprev = x;\n",
    "for k = 1:MAX_ITER\n",
    "    y = x + (k/(k+3))*(x - xprev);\n",
    "    while 1\n",
    "        grad_y = AtA*y - Atb;\n",
    "        z = prox_l1(y - lambda*grad_y, lambda*gamma);\n",
    "        if f(z) <= f(y) + grad_y'*(z - y) + (1/(2*lambda))*sum_square(z - y)\n",
    "            break;\n",
    "        end\n",
    "        lambda = beta*lambda;\n",
    "    end\n",
    "    xprev = x;\n",
    "    x = z;\n",
    "\n",
    "    h.fast_optval(k) = objective(A, b, gamma, x, x);\n",
    "    if k > 1 && abs(h.fast_optval(k) - h.fast_optval(k-1)) < ABSTOL\n",
    "        break;\n",
    "    end\n",
    "end\n",
    "\n",
    "h.x_fast = x;\n",
    "h.p_fast = h.fast_optval(end);\n",
    "h.fast_toc = toc;"
   ]
  },
  {
   "cell_type": "markdown",
   "metadata": {},
   "source": [
    "ADMM"
   ]
  },
  {
   "cell_type": "code",
   "execution_count": 8,
   "metadata": {},
   "outputs": [
    {
     "name": "stdout",
     "output_type": "stream",
     "text": [
      "error: Invalid call to factor.  Correct usage is:\n",
      "\n",
      " -- PF = factor (Q)\n",
      " -- [PF, N] = factor (Q)\n",
      "\n",
      "Additional help for built-in functions and operators is\n",
      "available in the online version of the manual.  Use the command\n",
      "'doc <topic>' to search the manual index.\n",
      "\n",
      "Help and information about Octave is also available on the WWW\n",
      "at https://www.octave.org and via the help@octave.org\n",
      "mailing list.\n",
      "error: 'U' undefined near line 8, column 8\n",
      "error: structure has no member 'admm_optval'\n"
     ]
    }
   ],
   "source": [
    "lambda = 1;\n",
    "rho = 1/lambda;\n",
    "\n",
    "tic;\n",
    "\n",
    "x = zeros(n,1);\n",
    "z = zeros(n,1);\n",
    "u = zeros(n,1);\n",
    "\n",
    "[L U] = factor(A, rho);\n",
    "\n",
    "for k = 1:MAX_ITER\n",
    "\n",
    "    % x-update\n",
    "    q = Atb + rho*(z - u);\n",
    "    if m >= n\n",
    "       x = U \\ (L \\ q);\n",
    "    else\n",
    "       x = lambda*(q - lambda*(A'*(U \\ ( L \\ (A*q) ))));\n",
    "    end\n",
    "\n",
    "    % z-update\n",
    "    zold = z;\n",
    "    z = prox_l1(x + u, lambda*gamma);\n",
    "\n",
    "    % u-update\n",
    "    u = u + x - z;\n",
    "\n",
    "    % diagnostics, reporting, termination checks\n",
    "    h.admm_optval(k)   = objective(A, b, gamma, x, z);\n",
    "    h.r_norm(k)   = norm(x - z);\n",
    "    h.s_norm(k)   = norm(-rho*(z - zold));\n",
    "    h.eps_pri(k)  = sqrt(n)*ABSTOL + RELTOL*max(norm(x), norm(-z));\n",
    "    h.eps_dual(k) = sqrt(n)*ABSTOL + RELTOL*norm(rho*u);\n",
    "\n",
    "    if h.r_norm(k) < h.eps_pri(k) && h.s_norm(k) < h.eps_dual(k)\n",
    "         break;\n",
    "    end\n",
    "\n",
    "end\n",
    "\n",
    "h.x_admm = z;\n",
    "h.p_admm = h.admm_optval(end);\n",
    "h.admm_toc = toc;"
   ]
  },
  {
   "cell_type": "markdown",
   "metadata": {},
   "source": [
    "## Timing"
   ]
  },
  {
   "cell_type": "code",
   "execution_count": 9,
   "metadata": {},
   "outputs": [
    {
     "name": "stdout",
     "output_type": "stream",
     "text": [
      "CVX time elapsed: 0.04 seconds.\n",
      "Proximal gradient time elapsed: 0.05 seconds.\n",
      "Fast prox gradient time elapsed: 0.06 seconds.\n",
      "ADMM time elapsed: 0.21 seconds.\n"
     ]
    }
   ],
   "source": [
    "fprintf('CVX time elapsed: %.2f seconds.\\n', h.cvx_toc);\n",
    "fprintf('Proximal gradient time elapsed: %.2f seconds.\\n', h.prox_grad_toc);\n",
    "fprintf('Fast prox gradient time elapsed: %.2f seconds.\\n', h.fast_toc);\n",
    "fprintf('ADMM time elapsed: %.2f seconds.\\n', h.admm_toc);"
   ]
  },
  {
   "cell_type": "markdown",
   "metadata": {},
   "source": [
    "## Plots"
   ]
  },
  {
   "cell_type": "code",
   "execution_count": 10,
   "metadata": {},
   "outputs": [
    {
     "name": "stdout",
     "output_type": "stream",
     "text": [
      "error: structure has no member 'prox_optval'\n",
      "error: structure has no member 'fast_optval'\n",
      "error: structure has no member 'admm_optval'\n",
      "error: structure has no member 'prox_iter'\n",
      "error: structure has no member 'p_cvx'\n",
      "error: structure has no member 'prox_optval'\n",
      "error: structure has no member 'fast_optval'\n",
      "error: structure has no member 'admm_optval'\n",
      "error: 'K' undefined near line 1, column 1\n",
      "error: legend: no valid object to label\n",
      "error: called from\n",
      "    legend>parse_opts at line 762 column 7\n",
      "    legend at line 206 column 8\n"
     ]
    },
    {
     "data": {
      "image/png": "[encoded data removed]",
      "text/plain": [
       "<IPython.core.display.Image object>"
      ]
     },
     "metadata": {},
     "output_type": "display_data"
    }
   ],
   "source": [
    "h.prox_iter = length(h.prox_optval);\n",
    "h.fast_iter = length(h.fast_optval);\n",
    "h.admm_iter = length(h.admm_optval);\n",
    "K = max([h.prox_iter h.fast_iter h.admm_iter]);\n",
    "h.cvx_optval  = h.p_cvx*ones(K,1);\n",
    "h.prox_optval = padarray(h.prox_optval', K-h.prox_iter, h.p_prox, 'post');\n",
    "h.fast_optval = padarray(h.fast_optval', K-h.fast_iter, h.p_fast, 'post');\n",
    "h.admm_optval = padarray(h.admm_optval', K-h.admm_iter, h.p_admm, 'post');\n",
    "fig = figure;\n",
    "\n",
    "plot(1:K, h.cvx_optval,  'k--', ...\n",
    "     1:K, h.prox_optval, 'r-', ...\n",
    "     1:K, h.fast_optval, 'g-', ...\n",
    "     1:K, h.admm_optval, 'b-');\n",
    "\n",
    "xlim([0 75]);\n",
    "legend('True', 'Proximal gradient', 'Accelerated', 'ADMM');\n",
    "print -depsc lasso_comp.eps;\n",
    "end\n",
    "\n",
    "function p = objective(A, b, gamma, x, z)\n",
    "    p = 0.5*sum_square(A*x - b) + gamma*norm(z,1);\n",
    "end\n",
    "\n",
    "function [L U] = factor(A, rho)\n",
    "    [m, n] = size(A);\n",
    "    if m >= n\n",
    "       L = chol(A'*A + rho*speye(n), 'lower');\n",
    "    else\n",
    "       L = chol(speye(m) + 1/rho*(A*A'), 'lower');\n",
    "    end\n",
    "    L = sparse(L);\n",
    "    U = sparse(L');\n",
    "end"
   ]
  },
  {
   "cell_type": "code",
   "execution_count": null,
   "metadata": {},
   "outputs": [],
   "source": []
  }
 ],
 "metadata": {
  "kernelspec": {
   "display_name": "Octave",
   "language": "octave",
   "name": "octave"
  },
  "language_info": {
   "file_extension": ".m",
   "help_links": [
    {
     "text": "GNU Octave",
     "url": "https://www.gnu.org/software/octave/support.html"
    },
    {
     "text": "Octave Kernel",
     "url": "https://github.com/Calysto/octave_kernel"
    },
    {
     "text": "MetaKernel Magics",
     "url": "https://metakernel.readthedocs.io/en/latest/source/README.html"
    }
   ],
   "mimetype": "text/x-octave",
   "name": "octave",
   "version": "6.4.0"
  }
 },
 "nbformat": 4,
 "nbformat_minor": 2
}
